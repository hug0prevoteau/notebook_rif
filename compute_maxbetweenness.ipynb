{
 "cells": [
  {
   "cell_type": "code",
   "execution_count": 1,
   "metadata": {},
   "outputs": [],
   "source": [
    "import pandas as pd\n",
    "from py2neo import Graph\n",
    "import networkx as nx\n",
    "import zss\n",
    "import numpy as np\n",
    "import matplotlib.pyplot as plt\n",
    "from scipy.optimize import curve_fit\n",
    "from sklearn.metrics import mean_squared_error\n",
    "from sklearn.metrics import mean_squared_error\n",
    "\n",
    "import geopy.distance\n",
    "from geopy.distance import geodesic"
   ]
  },
  {
   "cell_type": "code",
   "execution_count": 2,
   "metadata": {},
   "outputs": [],
   "source": [
    "#paths\n",
    "path = 'C:/Users/hugop/Desktop/Thèse finaux/graphes_cttes_france_3'"
   ]
  },
  {
   "cell_type": "code",
   "execution_count": 3,
   "metadata": {},
   "outputs": [],
   "source": [
    "communities = ['FRA', 'UK', 'USA', 'SPA', 'ITA']\n",
    "years = [2013,2014,2015,2016,2017,2018]"
   ]
  },
  {
   "cell_type": "code",
   "execution_count": 4,
   "metadata": {},
   "outputs": [],
   "source": [
    "df_list = []\n",
    "names_list = []\n",
    "for i in communities:\n",
    "    for x in years:\n",
    "        df = pd.read_csv(f'{path}/totalTrip{i}{x}.csv')\n",
    "        df.loc[df['source_name_2'] == 'Paris', 'source'] = 'Paris' \n",
    "        df.loc[df['destination_name_2'] == 'Paris', 'destination'] = 'Paris' \n",
    "        df = df[['source', 'destination', 'cost']]\n",
    "        df_list.append(df)\n",
    "        names_list.append(f'{i}{x}')"
   ]
  },
  {
   "cell_type": "code",
   "execution_count": 5,
   "metadata": {},
   "outputs": [],
   "source": [
    "def get_max_betweeness(g):\n",
    "    inverse = [(value, key) for key, value in nx.betweenness_centrality(g, weight='cost').items()]\n",
    "    max(inverse)[1]\n",
    "    return max(inverse)[1]\n",
    "\n",
    "def inverse_cost(df):\n",
    "    for i in range(df.shape[0]):\n",
    "        df.at[i,'cost'] = 1/float(df.at[i,'cost'])\n",
    "    return df"
   ]
  },
  {
   "cell_type": "code",
   "execution_count": 6,
   "metadata": {},
   "outputs": [],
   "source": [
    "graph_list = []\n",
    "df_list_aslist = []\n",
    "for x in range(len(df_list)):\n",
    "    g = nx.DiGraph()\n",
    "    for i, elrow in df_list[x].iterrows():\n",
    "        g.add_edge(elrow[0], elrow[1])\n",
    "    df_list[x] = inverse_cost(df_list[x])\n",
    "    #df_list[x]['cost'] = 1/df_list[x]['cost']\n",
    "    df_list_aslist.append(df_list[x].values.tolist())\n",
    "    g.add_weighted_edges_from(df_list_aslist[x], weight='cost')\n",
    "    graph_list.append(g)"
   ]
  },
  {
   "cell_type": "code",
   "execution_count": 7,
   "metadata": {},
   "outputs": [
    {
     "name": "stdout",
     "output_type": "stream",
     "text": [
      "Bayonne\n",
      "La Rochelle\n",
      "Quimper\n",
      "Grenoble\n",
      "La Rochelle\n",
      "Bordeaux\n",
      "Paris\n",
      "Paris\n",
      "Paris\n",
      "Nice\n",
      "Paris\n",
      "Tours\n",
      "Paris\n",
      "Paris\n",
      "Paris\n",
      "Bayeux\n",
      "Paris\n",
      "Paris\n",
      "Bordeaux\n",
      "Paris\n",
      "Paris\n",
      "Toulouse\n",
      "Sartène\n",
      "Bordeaux\n",
      "Paris\n",
      "Tours\n",
      "Rouen\n",
      "Nice\n",
      "Paris\n",
      "Paris\n"
     ]
    }
   ],
   "source": [
    "for i in graph_list:\n",
    "    print(get_max_betweeness(i))"
   ]
  }
 ],
 "metadata": {
  "kernelspec": {
   "display_name": "Python 3",
   "language": "python",
   "name": "python3"
  },
  "language_info": {
   "codemirror_mode": {
    "name": "ipython",
    "version": 3
   },
   "file_extension": ".py",
   "mimetype": "text/x-python",
   "name": "python",
   "nbconvert_exporter": "python",
   "pygments_lexer": "ipython3",
   "version": "3.7.6"
  }
 },
 "nbformat": 4,
 "nbformat_minor": 4
}
